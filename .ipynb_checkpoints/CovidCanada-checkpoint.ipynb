{
 "cells": [
  {
   "cell_type": "markdown",
   "metadata": {},
   "source": [
    "# Covid Canada\n",
    "Drawing a line under covid in europe for now and seeing what I can discover in Canada in relation to covid."
   ]
  },
  {
   "cell_type": "code",
   "execution_count": 3,
   "metadata": {},
   "outputs": [],
   "source": [
    "import numpy as np\n",
    "import pandas as pd\n",
    "import matplotlib.pyplot as plt\n",
    "import statistics as stats"
   ]
  },
  {
   "cell_type": "code",
   "execution_count": 4,
   "metadata": {},
   "outputs": [
    {
     "name": "stdout",
     "output_type": "stream",
     "text": [
      "       pruid                  prname                   prnameFR        date  \\\n",
      "0         35                 Ontario                    Ontario  31/01/2020   \n",
      "1         59        British Columbia       Colombie-Britannique  31/01/2020   \n",
      "2          1                  Canada                     Canada  31/01/2020   \n",
      "3         35                 Ontario                    Ontario  08/02/2020   \n",
      "4         59        British Columbia       Colombie-Britannique  08/02/2020   \n",
      "...      ...                     ...                        ...         ...   \n",
      "10162     60                   Yukon                      Yukon  13/01/2022   \n",
      "10163     61   Northwest Territories  Territoires du Nord-Ouest  13/01/2022   \n",
      "10164     62                 Nunavut                    Nunavut  13/01/2022   \n",
      "10165     99  Repatriated travellers        Voyageurs rapatriés  13/01/2022   \n",
      "10166      1                  Canada                     Canada  13/01/2022   \n",
      "\n",
      "       update  numconf  numprob  numdeaths  numtotal  numtested  ...  \\\n",
      "0         NaN        3      0.0        0.0         3        NaN  ...   \n",
      "1         NaN        1      0.0        0.0         1        NaN  ...   \n",
      "2         NaN        4      0.0        0.0         4        NaN  ...   \n",
      "3         NaN        3      0.0        0.0         3        NaN  ...   \n",
      "4         NaN        4      0.0        0.0         4        NaN  ...   \n",
      "...       ...      ...      ...        ...       ...        ...  ...   \n",
      "10162     1.0     2571      NaN       15.0      2571        NaN  ...   \n",
      "10163     1.0     3587      NaN       12.0      3587        NaN  ...   \n",
      "10164     1.0     1048      NaN        4.0      1048        NaN  ...   \n",
      "10165     NaN       13      NaN        0.0        13        NaN  ...   \n",
      "10166     NaN  2688751      NaN    31190.0   2688751        NaN  ...   \n",
      "\n",
      "       ratetotal  ratedeaths  numdeathstoday  percentdeath  numtestedtoday  \\\n",
      "0           0.02        0.00             0.0          0.00             NaN   \n",
      "1           0.02        0.00             0.0          0.00             NaN   \n",
      "2           0.01        0.00             0.0          0.00             NaN   \n",
      "3           0.02        0.00             0.0          0.00             NaN   \n",
      "4           0.08        0.00             0.0          0.00             NaN   \n",
      "...          ...         ...             ...           ...             ...   \n",
      "10162    5981.02       34.90             0.0          0.58             NaN   \n",
      "10163    7882.82       26.37             0.0          0.33             NaN   \n",
      "10164    2659.70       10.15             0.0          0.38             NaN   \n",
      "10165        NaN         NaN             0.0          0.00             NaN   \n",
      "10166    7030.13       81.55           108.0          1.16             NaN   \n",
      "\n",
      "       numteststoday  numrecoveredtoday  percentactive  numactive  rateactive  \n",
      "0                NaN                NaN         100.00        3.0        0.02  \n",
      "1                NaN                NaN         100.00        1.0        0.02  \n",
      "2                NaN                NaN         100.00        4.0        0.01  \n",
      "3                NaN                NaN         100.00        3.0        0.02  \n",
      "4                NaN                NaN         100.00        4.0        0.08  \n",
      "...              ...                ...            ...        ...         ...  \n",
      "10162            0.0               62.0          16.45      423.0      984.04  \n",
      "10163          128.0               47.0          33.96     1218.0     2676.69  \n",
      "10164           77.0               26.0          16.41      172.0      436.51  \n",
      "10165            0.0                0.0           0.00        0.0         NaN  \n",
      "10166       148730.0            43623.0          14.36   386033.0     1009.34  \n",
      "\n",
      "[10167 rows x 27 columns]\n"
     ]
    }
   ],
   "source": [
    "df = pd.read_csv(\"covid19Canada.csv\")\n",
    "print(df)"
   ]
  },
  {
   "cell_type": "code",
   "execution_count": null,
   "metadata": {},
   "outputs": [],
   "source": []
  },
  {
   "cell_type": "code",
   "execution_count": null,
   "metadata": {},
   "outputs": [],
   "source": []
  },
  {
   "cell_type": "code",
   "execution_count": null,
   "metadata": {},
   "outputs": [],
   "source": []
  }
 ],
 "metadata": {
  "kernelspec": {
   "display_name": "Python 3",
   "language": "python",
   "name": "python3"
  },
  "language_info": {
   "codemirror_mode": {
    "name": "ipython",
    "version": 3
   },
   "file_extension": ".py",
   "mimetype": "text/x-python",
   "name": "python",
   "nbconvert_exporter": "python",
   "pygments_lexer": "ipython3",
   "version": "3.8.3"
  }
 },
 "nbformat": 4,
 "nbformat_minor": 4
}
